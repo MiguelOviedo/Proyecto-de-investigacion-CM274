{
 "cells": [
  {
   "cell_type": "markdown",
   "metadata": {},
   "source": [
    "# Implementación del Quicksort Aleatorizado\n"
   ]
  },
  {
   "cell_type": "markdown",
   "metadata": {},
   "source": [
    "Hacemos varios test probando elementos aleatorios que van de 100, 1000, 10000 y 100000 en orden aleatorio, creciente y decreciente y medimos la diferencia de tiempos de implementación con la función proc.time(). Según las pruebas realizadas la diferencia es mínima incluso cuando se tiene datos de 100000 elementos en  orden decreciente (peor caso) y orden creciente (cuando  ya está ordenado). No se ha testeado con un millón de elementos ya que el kernel de R colapsa."
   ]
  },
  {
   "cell_type": "code",
   "execution_count": 1,
   "metadata": {
    "scrolled": false
   },
   "outputs": [
    {
     "data": {
      "text/plain": [
       "   user  system elapsed \n",
       "  0.216   0.004   0.218 "
      ]
     },
     "metadata": {},
     "output_type": "display_data"
    }
   ],
   "source": [
    "A <- sample(-100:100, 10000, replace = TRUE)\n",
    "#A_ord_crec <- sort(A, decreasing = FALSE)\n",
    "A_ord_dec <- sort(A, decreasing = TRUE)\n",
    "\n",
    "t <- proc.time() # inicio de tiempo\n",
    "\n",
    "quicksort <- function(A) {\n",
    "  \n",
    "  l <- length(A)\n",
    "  \n",
    "  # devuelve el vector si la longuitud de éste es menor o igual a 1\n",
    "  if (l <= 1) {\n",
    "    return(A)\n",
    "  }\n",
    "  \n",
    "  elemento <- sample(A, 1) # elegimos un elemento aleatorio del vector\n",
    "  i <- match(elemento, A) # hallamos el índice de ese elemento\n",
    "  A <- replace(A, c(i, l), A[c(l, i)]) # intercambiamos el A[i] con A[l]\n",
    "  pivote <- A[l] # elegimos como pivote a A[l]\n",
    "  particion <- A[-l] # quitamos el pivote del vector\n",
    "  \n",
    "  # se subdivide el vector según la comparación con el pivote\n",
    "  v1 <- particion[particion < pivote]\n",
    "  v2 <- particion[particion >= pivote]\n",
    "  \n",
    "  # desplazamos el primer elemento de v2 al final\n",
    "  v2 <- c(v2,v2[1])\n",
    "  v2 <- v2[-1]\n",
    "  \n",
    "  # llamada recursiva para cada subvector\n",
    "  v1 <- quicksort(v1)\n",
    "  v2 <- quicksort(v2)\n",
    "  \n",
    "  return(c(v1, pivote, v2))\n",
    "}\n",
    "#quicksort(A)\n",
    "#quicksort(A_ord_crec)\n",
    "x <- quicksort(A_ord_dec)\n",
    "\n",
    "proc.time() - t # fin de tiempo"
   ]
  }
 ],
 "metadata": {
  "kernelspec": {
   "display_name": "R",
   "language": "R",
   "name": "ir"
  },
  "language_info": {
   "codemirror_mode": "r",
   "file_extension": ".r",
   "mimetype": "text/x-r-source",
   "name": "R",
   "pygments_lexer": "r",
   "version": "3.4.4"
  }
 },
 "nbformat": 4,
 "nbformat_minor": 2
}
